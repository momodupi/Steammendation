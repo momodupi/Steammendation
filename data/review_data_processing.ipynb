{
 "cells": [
  {
   "cell_type": "code",
   "execution_count": 1,
   "metadata": {},
   "outputs": [],
   "source": [
    "import gzip\n",
    "\n",
    "def parse(path):\n",
    "  g = gzip.open(path, 'r')\n",
    "  for l in g:\n",
    "    yield eval(l)"
   ]
  },
  {
   "cell_type": "code",
   "execution_count": 4,
   "metadata": {},
   "outputs": [
    {
     "ename": "TypeError",
     "evalue": "'KMeans' object is not subscriptable",
     "output_type": "error",
     "traceback": [
      "\u001b[0;31m---------------------------------------------------------------------------\u001b[0m",
      "\u001b[0;31mTypeError\u001b[0m                                 Traceback (most recent call last)",
      "Cell \u001b[0;32mIn [4], line 5\u001b[0m\n\u001b[1;32m      3\u001b[0m \u001b[39mwith\u001b[39;00m \u001b[39mopen\u001b[39m(\u001b[39m'\u001b[39m\u001b[39mpreprocessing.pickle\u001b[39m\u001b[39m'\u001b[39m, \u001b[39m'\u001b[39m\u001b[39mrb\u001b[39m\u001b[39m'\u001b[39m) \u001b[39mas\u001b[39;00m pk:\n\u001b[1;32m      4\u001b[0m     preprocessing \u001b[39m=\u001b[39m pickle\u001b[39m.\u001b[39mload(pk)\n\u001b[0;32m----> 5\u001b[0m \u001b[39mprint\u001b[39m(preprocessing[\u001b[39m'\u001b[39;49m\u001b[39muser_type_cnt\u001b[39;49m\u001b[39m'\u001b[39;49m])\n",
      "\u001b[0;31mTypeError\u001b[0m: 'KMeans' object is not subscriptable"
     ]
    }
   ],
   "source": [
    "import pickle\n",
    "preprocessing = {}\n",
    "with open('preprocessing.pickle', 'rb') as pk:\n",
    "    preprocessing = pickle.load(pk)\n",
    "print(preprocessing['user_type_cnt'])"
   ]
  },
  {
   "cell_type": "code",
   "execution_count": 13,
   "metadata": {},
   "outputs": [
    {
     "name": "stdout",
     "output_type": "stream",
     "text": [
      "59302 59302 59302\n"
     ]
    }
   ],
   "source": [
    "cnt = 0\n",
    "cnt_rec = 0\n",
    "cnt_rec_True = 0\n",
    "\n",
    "review_data = parse('australian_user_reviews.json.gz')\n",
    "for i in review_data:\n",
    "    r = i['reviews']\n",
    "\n"
   ]
  }
 ],
 "metadata": {
  "kernelspec": {
   "display_name": "Python 3.11.0 ('sklearn-env')",
   "language": "python",
   "name": "python3"
  },
  "language_info": {
   "codemirror_mode": {
    "name": "ipython",
    "version": 3
   },
   "file_extension": ".py",
   "mimetype": "text/x-python",
   "name": "python",
   "nbconvert_exporter": "python",
   "pygments_lexer": "ipython3",
   "version": "3.11.0"
  },
  "orig_nbformat": 4,
  "vscode": {
   "interpreter": {
    "hash": "a7256c252895d08f24fd0d38c47a7f44b992db4b0cfbcce2ccbab99d95aadf62"
   }
  }
 },
 "nbformat": 4,
 "nbformat_minor": 2
}
