{
 "cells": [
  {
   "cell_type": "markdown",
   "metadata": {},
   "source": [
    "### Processing user-game data"
   ]
  },
  {
   "cell_type": "code",
   "execution_count": 1,
   "metadata": {},
   "outputs": [],
   "source": [
    "import gzip\n",
    "\n",
    "def parse(path):\n",
    "  g = gzip.open(path, 'r')\n",
    "  for l in g:\n",
    "    yield eval(l)"
   ]
  },
  {
   "cell_type": "code",
   "execution_count": 2,
   "metadata": {},
   "outputs": [],
   "source": [
    "df_ui = parse('australian_users_items.json.gz')"
   ]
  },
  {
   "cell_type": "code",
   "execution_count": 3,
   "metadata": {},
   "outputs": [],
   "source": [
    "ui_dict = {}"
   ]
  },
  {
   "cell_type": "code",
   "execution_count": 4,
   "metadata": {},
   "outputs": [],
   "source": [
    "for d in df_ui:\n",
    "    ui_dict[int(d['steam_id'])] = [{'game_id': int(item['item_id']), 'play_time': item['playtime_forever']} for item in d['items']]"
   ]
  },
  {
   "cell_type": "code",
   "execution_count": 5,
   "metadata": {},
   "outputs": [],
   "source": [
    "import json\n",
    "\n",
    "with open('ui_dict.json', 'w') as js:\n",
    "    json.dump(ui_dict, js)"
   ]
  },
  {
   "cell_type": "markdown",
   "metadata": {},
   "source": [
    "### Processing game data"
   ]
  },
  {
   "cell_type": "code",
   "execution_count": 6,
   "metadata": {},
   "outputs": [],
   "source": [
    "df_games = parse('steam_games.json.gz')"
   ]
  },
  {
   "cell_type": "code",
   "execution_count": 7,
   "metadata": {},
   "outputs": [],
   "source": [
    "from collections import defaultdict\n",
    "tags = []\n",
    "game_id_dict = defaultdict(list)\n",
    "for d in df_games:\n",
    "    if 'id' in d:\n",
    "        if 'genres' in d:\n",
    "            for genre in d['genres']:\n",
    "                if genre not in tags:\n",
    "                    tags.append(genre)\n",
    "        if 'specs' in d:\n",
    "            for spec in d['specs']:\n",
    "                if spec not in tags:\n",
    "                    tags.append(spec)"
   ]
  },
  {
   "cell_type": "code",
   "execution_count": 8,
   "metadata": {},
   "outputs": [],
   "source": [
    "\"\"\"Turn game id to 1-hot vectors\"\"\"\n",
    "\n",
    "df_games = parse('steam_games.json.gz')\n",
    "num_tags = len(tags)\n",
    "for d in df_games:\n",
    "    if 'id' in d:\n",
    "        game_id = int(d['id'])\n",
    "\n",
    "        vec_1hot = [0]*num_tags\n",
    "        if 'genres' in d:\n",
    "            for genre in d['genres']:\n",
    "                vec_1hot[tags.index(genre)] = 1\n",
    "\n",
    "        if 'specs' in d:\n",
    "            for spec in d['specs']:\n",
    "                vec_1hot[tags.index(spec)] = 1\n",
    "\n",
    "        game_id_dict[game_id] = vec_1hot\n"
   ]
  },
  {
   "cell_type": "code",
   "execution_count": 9,
   "metadata": {},
   "outputs": [],
   "source": [
    "with open('game_tags.json', 'w') as js:\n",
    "    json.dump({'tags': tags}, js)"
   ]
  },
  {
   "cell_type": "code",
   "execution_count": 10,
   "metadata": {},
   "outputs": [],
   "source": [
    "with open('game_dict.json', 'w') as js:\n",
    "    json.dump(game_id_dict, js)"
   ]
  },
  {
   "cell_type": "markdown",
   "metadata": {},
   "source": [
    "### Customer Embedding"
   ]
  },
  {
   "cell_type": "code",
   "execution_count": 13,
   "metadata": {},
   "outputs": [
    {
     "ename": "AttributeError",
     "evalue": "'dict' object has no attribute 'sum'",
     "output_type": "error",
     "traceback": [
      "\u001b[0;31m---------------------------------------------------------------------------\u001b[0m",
      "\u001b[0;31mAttributeError\u001b[0m                            Traceback (most recent call last)",
      "Cell \u001b[0;32mIn [13], line 21\u001b[0m\n\u001b[1;32m     19\u001b[0m user_history[user] \u001b[39m=\u001b[39m np\u001b[39m.\u001b[39marray(user_history[user])\n\u001b[1;32m     20\u001b[0m user_type[user] \u001b[39m/\u001b[39m\u001b[39m=\u001b[39m total_time\n\u001b[0;32m---> 21\u001b[0m user_type_sum \u001b[39m=\u001b[39m user_type\u001b[39m.\u001b[39;49msum()    \n\u001b[1;32m     22\u001b[0m \u001b[39mif\u001b[39;00m user_type_sum \u001b[39m!=\u001b[39m \u001b[39m0\u001b[39m:\n\u001b[1;32m     23\u001b[0m     user_type[user] \u001b[39m/\u001b[39m\u001b[39m=\u001b[39m user_type_sum\n",
      "\u001b[0;31mAttributeError\u001b[0m: 'dict' object has no attribute 'sum'"
     ]
    }
   ],
   "source": [
    "import numpy as np\n",
    "\n",
    "user_history = {}\n",
    "user_type = {}\n",
    "# {user_id: history \\in (53, T)}\n",
    "for user in ui_dict:\n",
    "    if len(ui_dict[user]) == 0:\n",
    "        continue\n",
    "    user_history[user] = []\n",
    "    user_type[user] = np.zeros(num_tags)\n",
    "    total_time = 0\n",
    "    \n",
    "    for i,game_dict in enumerate(ui_dict[user]):\n",
    "        if game_dict['game_id'] in game_id_dict:\n",
    "            user_history[user].append( game_id_dict[game_dict['game_id']] )\n",
    "            user_type[user] += np.array(game_id_dict[game_dict['game_id']])*game_dict['play_time']\n",
    "            total_time += game_dict['play_time']\n",
    "            \n",
    "    user_history[user] = np.array(user_history[user])\n",
    "    user_type[user] /= total_time\n",
    "    user_type_sum = user_type[user].sum()    \n",
    "    if user_type_sum != 0:\n",
    "        user_type[user] /= user_type_sum\n",
    "        \n",
    "    \n"
   ]
  },
  {
   "cell_type": "code",
   "execution_count": 12,
   "metadata": {},
   "outputs": [
    {
     "name": "stdout",
     "output_type": "stream",
     "text": [
      "[6.78686865e-01 1.48007879e-02 1.04623070e-01 1.14325204e-01\n",
      " 2.29755025e-01 7.26392199e-01 1.63842546e-02 2.15944584e-01\n",
      " 6.51773374e-01 1.38855333e-01 1.59957339e-01 7.96260624e-01\n",
      " 6.30883585e-01 1.89411995e-01 5.21292457e-03 3.35918030e-01\n",
      " 1.00460348e-01 3.49663173e-01 3.39547488e-03 2.72073307e-04\n",
      " 0.00000000e+00 0.00000000e+00 0.00000000e+00 3.32076355e-01\n",
      " 5.34950537e-02 0.00000000e+00 1.18885152e-01 2.55204762e-03\n",
      " 2.72073307e-04 0.00000000e+00 2.21467672e-03 1.95294220e-02\n",
      " 3.78219988e-01 2.63366962e-03 4.89731953e-05 7.75136853e-02\n",
      " 5.49588081e-04 2.23355861e-01 4.48757713e-02 4.37330634e-02\n",
      " 3.15877110e-02 3.58222599e-01 2.11624060e-01 0.00000000e+00\n",
      " 0.00000000e+00 0.00000000e+00 5.40500833e-02 0.00000000e+00\n",
      " 0.00000000e+00 0.00000000e+00 0.00000000e+00 0.00000000e+00\n",
      " 0.00000000e+00 0.00000000e+00 0.00000000e+00 2.72073307e-04\n",
      " 2.72073307e-04 0.00000000e+00 0.00000000e+00 0.00000000e+00\n",
      " 0.00000000e+00 0.00000000e+00]\n"
     ]
    }
   ],
   "source": [
    "for p in user_type:\n",
    "    print(user_type[p])\n",
    "    break"
   ]
  }
 ],
 "metadata": {
  "kernelspec": {
   "display_name": "Python 3.10.8 ('base')",
   "language": "python",
   "name": "python3"
  },
  "language_info": {
   "codemirror_mode": {
    "name": "ipython",
    "version": 3
   },
   "file_extension": ".py",
   "mimetype": "text/x-python",
   "name": "python",
   "nbconvert_exporter": "python",
   "pygments_lexer": "ipython3",
   "version": "3.10.8"
  },
  "orig_nbformat": 4,
  "vscode": {
   "interpreter": {
    "hash": "c95b7bcfccdbacccf4ee06abcc950c3e9e719b6efe8ff81c1f2bd440abfea29a"
   }
  }
 },
 "nbformat": 4,
 "nbformat_minor": 2
}
