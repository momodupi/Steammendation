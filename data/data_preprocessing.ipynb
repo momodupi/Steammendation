{
 "cells": [
  {
   "cell_type": "markdown",
   "metadata": {},
   "source": [
    "### Processing user-game data"
   ]
  },
  {
   "cell_type": "code",
   "execution_count": 1,
   "metadata": {},
   "outputs": [],
   "source": [
    "import gzip\n",
    "\n",
    "def parse(path):\n",
    "  g = gzip.open(path, 'r')\n",
    "  for l in g:\n",
    "    yield eval(l)"
   ]
  },
  {
   "cell_type": "code",
   "execution_count": 2,
   "metadata": {},
   "outputs": [],
   "source": [
    "df_ui = parse('australian_users_items.json.gz')"
   ]
  },
  {
   "cell_type": "code",
   "execution_count": 3,
   "metadata": {},
   "outputs": [],
   "source": [
    "ui_dict = {}"
   ]
  },
  {
   "cell_type": "code",
   "execution_count": 4,
   "metadata": {},
   "outputs": [],
   "source": [
    "for d in df_ui:\n",
    "    ui_dict[int(d['steam_id'])] = [{'game_id': int(item['item_id']), 'play_time': item['playtime_forever']} for item in d['items']]"
   ]
  },
  {
   "cell_type": "code",
   "execution_count": 5,
   "metadata": {},
   "outputs": [],
   "source": [
    "import json\n",
    "\n",
    "with open('ui_dict.json', 'w') as js:\n",
    "    json.dump(ui_dict, js)"
   ]
  },
  {
   "cell_type": "markdown",
   "metadata": {},
   "source": [
    "### Processing game data"
   ]
  },
  {
   "cell_type": "code",
   "execution_count": 6,
   "metadata": {},
   "outputs": [],
   "source": [
    "df_games = parse('steam_games.json.gz')"
   ]
  },
  {
   "cell_type": "code",
   "execution_count": 7,
   "metadata": {},
   "outputs": [],
   "source": [
    "tags = []\n",
    "game_id_dict = {}\n",
    "for d in df_games:\n",
    "    if 'id' not in d:\n",
    "        continue\n",
    "    game_id_dict[int(d['id'])] = []\n",
    "\n",
    "    if 'genres' not in d.keys():\n",
    "        continue\n",
    "    for genre in d['genres']:\n",
    "        if genre not in tags:\n",
    "            tags.append(genre)\n",
    "\n",
    "    if 'specs' not in d.keys():\n",
    "        continue\n",
    "    for spec in d['specs']:\n",
    "        if spec not in tags:\n",
    "            tags.append(spec)"
   ]
  },
  {
   "cell_type": "code",
   "execution_count": 8,
   "metadata": {},
   "outputs": [],
   "source": [
    "\"\"\"Turn game id to 1-hot vectors\"\"\"\n",
    "\n",
    "df_games = parse('steam_games.json.gz')\n",
    "num_tags = len(tags)\n",
    "for d in df_games:\n",
    "    if 'id' not in d:\n",
    "        continue\n",
    "    game_id = int(d['id'])\n",
    "\n",
    "    vec_1hot = [0]*num_tags\n",
    "    if 'genres' not in d.keys():\n",
    "        continue\n",
    "    for genre in d['genres']:\n",
    "        vec_1hot[tags.index(genre)] = 1\n",
    "\n",
    "    if 'specs' not in d.keys():\n",
    "        continue\n",
    "    for spec in d['specs']:\n",
    "        vec_1hot[tags.index(spec)] = 1\n",
    "\n",
    "    game_id_dict[game_id] = vec_1hot\n"
   ]
  },
  {
   "cell_type": "code",
   "execution_count": 9,
   "metadata": {},
   "outputs": [],
   "source": [
    "with open('game_tags.json', 'w') as js:\n",
    "    json.dump({'tags': tags}, js)"
   ]
  },
  {
   "cell_type": "code",
   "execution_count": 10,
   "metadata": {},
   "outputs": [],
   "source": [
    "with open('game_dict.json', 'w') as js:\n",
    "    json.dump(game_id_dict, js)"
   ]
  },
  {
   "cell_type": "markdown",
   "metadata": {},
   "source": [
    "### Customer Embedding"
   ]
  },
  {
   "cell_type": "code",
   "execution_count": null,
   "metadata": {},
   "outputs": [],
   "source": [
    "## {user_id: history \\in (53, T)}"
   ]
  }
 ],
 "metadata": {
  "kernelspec": {
   "display_name": "Python 3.9.13 64-bit (microsoft store)",
   "language": "python",
   "name": "python3"
  },
  "language_info": {
   "codemirror_mode": {
    "name": "ipython",
    "version": 3
   },
   "file_extension": ".py",
   "mimetype": "text/x-python",
   "name": "python",
   "nbconvert_exporter": "python",
   "pygments_lexer": "ipython3",
   "version": "3.9.13"
  },
  "orig_nbformat": 4,
  "vscode": {
   "interpreter": {
    "hash": "10c8c5adb7e46a8eb6cb2e94637e0d27a7ace45aff1fdc92be18516ebcd202d2"
   }
  }
 },
 "nbformat": 4,
 "nbformat_minor": 2
}
