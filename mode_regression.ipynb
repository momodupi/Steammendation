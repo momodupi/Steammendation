{
 "cells": [
  {
   "cell_type": "code",
   "execution_count": 1,
   "metadata": {},
   "outputs": [],
   "source": [
    "\n",
    "import pickle\n",
    "import pandas as pd\n",
    "import numpy as np\n",
    "\n",
    "\n",
    "import torch as tc\n",
    "import torch.nn as nn\n",
    "import torch.nn.functional as F\n",
    "from torch.autograd import Variable\n"
   ]
  },
  {
   "cell_type": "code",
   "execution_count": 2,
   "metadata": {},
   "outputs": [],
   "source": [
    "\n",
    "with open('data/data_res.pickle', 'rb') as pk:\n",
    "    data = pickle.load(pk)"
   ]
  },
  {
   "cell_type": "code",
   "execution_count": 3,
   "metadata": {},
   "outputs": [],
   "source": [
    "from collections import defaultdict\n",
    "data_reorg = defaultdict(list)\n",
    "\n",
    "for user in data['x']:\n",
    "    for i,game in enumerate(data['x'][user]):\n",
    "        if i+1 <= len(data['x'][user]) - 1:\n",
    "            data_reorg['x_t'].append( data['x'][user][i] )\n",
    "            data_reorg['y_t'].append( data['y'][user][i] )\n",
    "            data_reorg['u_t'].append( data['u'][user][i] )\n",
    "            data_reorg['x_t1'].append( data['x'][user][i+1] )\n",
    "            data_reorg['y_t1'].append( data['y'][user][i+1] )\n",
    "            \n",
    "df = pd.DataFrame( data_reorg )\n"
   ]
  },
  {
   "cell_type": "code",
   "execution_count": 4,
   "metadata": {},
   "outputs": [
    {
     "data": {
      "text/html": [
       "<div>\n",
       "<style scoped>\n",
       "    .dataframe tbody tr th:only-of-type {\n",
       "        vertical-align: middle;\n",
       "    }\n",
       "\n",
       "    .dataframe tbody tr th {\n",
       "        vertical-align: top;\n",
       "    }\n",
       "\n",
       "    .dataframe thead th {\n",
       "        text-align: right;\n",
       "    }\n",
       "</style>\n",
       "<table border=\"1\" class=\"dataframe\">\n",
       "  <thead>\n",
       "    <tr style=\"text-align: right;\">\n",
       "      <th></th>\n",
       "      <th>x_t</th>\n",
       "      <th>y_t</th>\n",
       "      <th>u_t</th>\n",
       "      <th>x_t1</th>\n",
       "      <th>y_t1</th>\n",
       "    </tr>\n",
       "  </thead>\n",
       "  <tbody>\n",
       "    <tr>\n",
       "      <th>0</th>\n",
       "      <td>0.100000</td>\n",
       "      <td>[0.3333333333333333, 0.0, 0.0, 0.0, 0.0, 0.0, ...</td>\n",
       "      <td>[1, 0, 0, 0, 0, 0, 0, 0, 1, 0, 0, 0, 0, 0, 0, ...</td>\n",
       "      <td>0.100000</td>\n",
       "      <td>[0.3333333333333333, 0.0, 0.0, 0.0, 0.0, 0.0, ...</td>\n",
       "    </tr>\n",
       "    <tr>\n",
       "      <th>1</th>\n",
       "      <td>0.100000</td>\n",
       "      <td>[0.3333333333333333, 0.0, 0.0, 0.0, 0.0, 0.0, ...</td>\n",
       "      <td>[1, 0, 0, 0, 0, 0, 0, 0, 1, 0, 0, 0, 0, 0, 0, ...</td>\n",
       "      <td>0.100000</td>\n",
       "      <td>[0.3333333333333333, 0.0, 0.0, 0.0, 0.0, 0.0, ...</td>\n",
       "    </tr>\n",
       "    <tr>\n",
       "      <th>2</th>\n",
       "      <td>0.100000</td>\n",
       "      <td>[0.3333333333333333, 0.0, 0.0, 0.0, 0.0, 0.0, ...</td>\n",
       "      <td>[1, 0, 0, 0, 0, 0, 0, 0, 1, 0, 0, 0, 0, 0, 0, ...</td>\n",
       "      <td>0.100000</td>\n",
       "      <td>[0.3333333333333333, 0.0, 0.0, 0.0, 0.0, 0.0, ...</td>\n",
       "    </tr>\n",
       "    <tr>\n",
       "      <th>3</th>\n",
       "      <td>0.100000</td>\n",
       "      <td>[0.3333333333333333, 0.0, 0.0, 0.0, 0.0, 0.0, ...</td>\n",
       "      <td>[1, 0, 0, 0, 0, 0, 0, 0, 1, 0, 0, 0, 0, 0, 0, ...</td>\n",
       "      <td>0.086603</td>\n",
       "      <td>[0.3333333333333333, 0.0, 0.0, 0.0, 0.0, 0.0, ...</td>\n",
       "    </tr>\n",
       "    <tr>\n",
       "      <th>4</th>\n",
       "      <td>0.086603</td>\n",
       "      <td>[0.3333333333333333, 0.0, 0.0, 0.0, 0.0, 0.0, ...</td>\n",
       "      <td>[1, 0, 0, 0, 0, 1, 0, 0, 1, 0, 0, 0, 0, 0, 0, ...</td>\n",
       "      <td>0.100000</td>\n",
       "      <td>[0.3333333333333333, 0.0, 0.0, 0.0, 0.0, 0.0, ...</td>\n",
       "    </tr>\n",
       "  </tbody>\n",
       "</table>\n",
       "</div>"
      ],
      "text/plain": [
       "        x_t                                                y_t  \\\n",
       "0  0.100000  [0.3333333333333333, 0.0, 0.0, 0.0, 0.0, 0.0, ...   \n",
       "1  0.100000  [0.3333333333333333, 0.0, 0.0, 0.0, 0.0, 0.0, ...   \n",
       "2  0.100000  [0.3333333333333333, 0.0, 0.0, 0.0, 0.0, 0.0, ...   \n",
       "3  0.100000  [0.3333333333333333, 0.0, 0.0, 0.0, 0.0, 0.0, ...   \n",
       "4  0.086603  [0.3333333333333333, 0.0, 0.0, 0.0, 0.0, 0.0, ...   \n",
       "\n",
       "                                                 u_t      x_t1  \\\n",
       "0  [1, 0, 0, 0, 0, 0, 0, 0, 1, 0, 0, 0, 0, 0, 0, ...  0.100000   \n",
       "1  [1, 0, 0, 0, 0, 0, 0, 0, 1, 0, 0, 0, 0, 0, 0, ...  0.100000   \n",
       "2  [1, 0, 0, 0, 0, 0, 0, 0, 1, 0, 0, 0, 0, 0, 0, ...  0.100000   \n",
       "3  [1, 0, 0, 0, 0, 0, 0, 0, 1, 0, 0, 0, 0, 0, 0, ...  0.086603   \n",
       "4  [1, 0, 0, 0, 0, 1, 0, 0, 1, 0, 0, 0, 0, 0, 0, ...  0.100000   \n",
       "\n",
       "                                                y_t1  \n",
       "0  [0.3333333333333333, 0.0, 0.0, 0.0, 0.0, 0.0, ...  \n",
       "1  [0.3333333333333333, 0.0, 0.0, 0.0, 0.0, 0.0, ...  \n",
       "2  [0.3333333333333333, 0.0, 0.0, 0.0, 0.0, 0.0, ...  \n",
       "3  [0.3333333333333333, 0.0, 0.0, 0.0, 0.0, 0.0, ...  \n",
       "4  [0.3333333333333333, 0.0, 0.0, 0.0, 0.0, 0.0, ...  "
      ]
     },
     "execution_count": 4,
     "metadata": {},
     "output_type": "execute_result"
    }
   ],
   "source": [
    "\n",
    "TRAINING_SAMPLE_SIZE = int(0.75*len(df))\n",
    "train_idx = np.random.randint(0, len(df)-1, TRAINING_SAMPLE_SIZE)\n",
    "verify_idx = np.setdiff1d(np.arange(len(df)), train_idx)\n",
    "\n",
    "df.head()"
   ]
  },
  {
   "cell_type": "code",
   "execution_count": 42,
   "metadata": {},
   "outputs": [],
   "source": [
    "\n",
    "class Net(tc.nn.Module):\n",
    "    def __init__(self, n_feature, n_hidden, n_output):\n",
    "        super(Net, self).__init__()\n",
    "        self.hidden = tc.nn.Linear(n_feature, n_hidden)   # hidden layer\n",
    "        self.predict = tc.nn.Linear(n_hidden, n_output)   # output layer\n",
    "\n",
    "    def forward(self, x):\n",
    "        x = F.relu(self.hidden(x))      # activation function for hidden layer\n",
    "        x = self.predict(x)             # linear output\n",
    "        return x\n",
    "\n",
    "train_data = df.iloc[train_idx]\n",
    "verify_data = df.iloc[verify_idx]\n",
    "x_dim = 1\n",
    "y_dim = len(train_data['y_t'].iloc[0])\n",
    "u_dim = len(train_data['u_t'].iloc[0])\n",
    "\n",
    "h_input_layer_dim = x_dim+u_dim\n",
    "nn_hidden_width = 100\n",
    "h_output_layer_dim = y_dim\n"
   ]
  },
  {
   "cell_type": "code",
   "execution_count": 38,
   "metadata": {},
   "outputs": [],
   "source": [
    "x_set, u_set = np.asarray(train_data['x_t'].to_list()), np.asarray(train_data['u_t'].to_list())\n",
    "y_set = np.asarray(train_data['y_t'].to_list())\n",
    "x_set = np.reshape(x_set, (len(x_set), 1))\n",
    "h_input_data = tc.tensor(np.hstack([x_set, u_set]), dtype=tc.float)\n",
    "h_output_data = tc.tensor(y_set, dtype=tc.float)"
   ]
  },
  {
   "cell_type": "code",
   "execution_count": 47,
   "metadata": {},
   "outputs": [
    {
     "name": "stdout",
     "output_type": "stream",
     "text": [
      "eps: 0 -- 0.004399415105581284\n",
      "eps: 1 -- 0.0021338798105716705\n",
      "eps: 2 -- 0.0010622406844049692\n",
      "eps: 3 -- 0.0008304956718347967\n",
      "eps: 4 -- 0.0006046133348718286\n",
      "eps: 5 -- 0.0004913890152238309\n",
      "eps: 6 -- 0.0004761289746966213\n",
      "eps: 7 -- 0.000467058940557763\n",
      "eps: 8 -- 0.00045365377445705235\n",
      "eps: 9 -- 0.00044069081195630133\n"
     ]
    }
   ],
   "source": [
    "\n",
    "net = nn.Sequential(nn.Linear(h_input_layer_dim, nn_hidden_width), \n",
    "                    nn.ReLU(), nn.Linear(nn_hidden_width, nn_hidden_width),\n",
    "                    nn.ReLU(), nn.Linear(nn_hidden_width, nn_hidden_width),\n",
    "                    nn.ReLU(), nn.Linear(nn_hidden_width, h_output_layer_dim))\n",
    "\n",
    "optimizer = tc.optim.Adam(net.parameters(), lr=0.005)\n",
    "loss_func = tc.nn.MSELoss()  # this is for regression mean squared loss\n",
    "\n",
    "\n",
    "for _ in range(10):\n",
    "    optimizer.zero_grad()                 # clear gradients for next train\n",
    "    v_pred = net(h_input_data)            # input x and predict based on x  \n",
    "    loss = loss_func(v_pred, h_output_data)   # must be (1. nn output, 2. target)\n",
    "    \n",
    "    loss.backward()                            # backpropagation, compute gradients\n",
    "    optimizer.step()                      # apply gradients\n",
    "    print(f'eps: {_} -- {loss}')"
   ]
  },
  {
   "cell_type": "code",
   "execution_count": 48,
   "metadata": {},
   "outputs": [],
   "source": [
    "x_set, u_set = np.asarray(verify_data['x_t'].to_list()), np.asarray(verify_data['u_t'].to_list())\n",
    "y_set = np.asarray(verify_data['y_t'].to_list())\n",
    "x_set = np.reshape(x_set, (len(x_set), 1))\n",
    "h_input_verify = tc.tensor(np.hstack([x_set, u_set]), dtype=tc.float)\n",
    "h_output_verify = tc.tensor(y_set, dtype=tc.float)"
   ]
  },
  {
   "cell_type": "code",
   "execution_count": 49,
   "metadata": {},
   "outputs": [
    {
     "name": "stdout",
     "output_type": "stream",
     "text": [
      "tensor(0.0004, grad_fn=<MseLossBackward>)\n"
     ]
    }
   ],
   "source": [
    "v_pred = net(h_input_verify)\n",
    "loss = loss_func(v_pred, h_output_verify)\n",
    "print(loss)"
   ]
  }
 ],
 "metadata": {
  "kernelspec": {
   "display_name": "Python 3.9.6 ('pt-gpu')",
   "language": "python",
   "name": "python3"
  },
  "language_info": {
   "codemirror_mode": {
    "name": "ipython",
    "version": 3
   },
   "file_extension": ".py",
   "mimetype": "text/x-python",
   "name": "python",
   "nbconvert_exporter": "python",
   "pygments_lexer": "ipython3",
   "version": "3.9.6"
  },
  "orig_nbformat": 4,
  "vscode": {
   "interpreter": {
    "hash": "ced00d027a5dbfd53bf9a418350af530543228d182f68e857f8b219fbe4842d6"
   }
  }
 },
 "nbformat": 4,
 "nbformat_minor": 2
}
