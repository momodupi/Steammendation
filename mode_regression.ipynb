{
 "cells": [
  {
   "cell_type": "code",
   "execution_count": 1,
   "metadata": {},
   "outputs": [
    {
     "name": "stderr",
     "output_type": "stream",
     "text": [
      "/home/shao.367/miniconda3/envs/pt-gpu/lib/python3.9/site-packages/tqdm/auto.py:22: TqdmWarning: IProgress not found. Please update jupyter and ipywidgets. See https://ipywidgets.readthedocs.io/en/stable/user_install.html\n",
      "  from .autonotebook import tqdm as notebook_tqdm\n"
     ]
    }
   ],
   "source": [
    "\n",
    "import pickle\n",
    "import pandas as pd\n",
    "import numpy as np\n",
    "\n",
    "\n",
    "import torch as tc\n",
    "import torch.nn as nn\n",
    "import torch.nn.functional as F\n",
    "from torch.autograd import Variable\n"
   ]
  },
  {
   "cell_type": "code",
   "execution_count": 2,
   "metadata": {},
   "outputs": [],
   "source": [
    "\n",
    "with open('data/data_res.pickle', 'rb') as pk:\n",
    "    data = pickle.load(pk)"
   ]
  },
  {
   "cell_type": "code",
   "execution_count": 3,
   "metadata": {},
   "outputs": [],
   "source": [
    "from collections import defaultdict\n",
    "data_reorg = defaultdict(list)\n",
    "\n",
    "with open('data/preprocessing.pickle', 'rb') as pk:\n",
    "    data_preprocessing = pickle.load(pk)\n",
    "\n",
    "user_class = data_preprocessing['user_class']\n",
    "\n",
    "for user in data['x']:\n",
    "    for i,game in enumerate(data['x'][user]):\n",
    "        if i+1 <= len(data['x'][user]) - 1:\n",
    "            data_reorg['x_t'].append( data['x'][user][i] )\n",
    "            data_reorg['y_t'].append( data['y'][user][i] )\n",
    "            data_reorg['u_t'].append( data['u'][user][i] )\n",
    "            data_reorg['x_t1'].append( data['x'][user][i+1] )\n",
    "            data_reorg['y_t1'].append( data['y'][user][i+1] )\n",
    "            data_reorg['class'].append( user_class[user][0] )\n",
    "            \n",
    "df = pd.DataFrame( data_reorg )\n"
   ]
  },
  {
   "cell_type": "code",
   "execution_count": 4,
   "metadata": {},
   "outputs": [
    {
     "data": {
      "text/html": [
       "<div>\n",
       "<style scoped>\n",
       "    .dataframe tbody tr th:only-of-type {\n",
       "        vertical-align: middle;\n",
       "    }\n",
       "\n",
       "    .dataframe tbody tr th {\n",
       "        vertical-align: top;\n",
       "    }\n",
       "\n",
       "    .dataframe thead th {\n",
       "        text-align: right;\n",
       "    }\n",
       "</style>\n",
       "<table border=\"1\" class=\"dataframe\">\n",
       "  <thead>\n",
       "    <tr style=\"text-align: right;\">\n",
       "      <th></th>\n",
       "      <th>x_t</th>\n",
       "      <th>y_t</th>\n",
       "      <th>u_t</th>\n",
       "      <th>x_t1</th>\n",
       "      <th>y_t1</th>\n",
       "      <th>class</th>\n",
       "    </tr>\n",
       "  </thead>\n",
       "  <tbody>\n",
       "    <tr>\n",
       "      <th>0</th>\n",
       "      <td>0.100000</td>\n",
       "      <td>[0.3333333333333333, 0.0, 0.0, 0.0, 0.0, 0.0, ...</td>\n",
       "      <td>[1, 0, 0, 0, 0, 0, 0, 0, 1, 0, 0, 0, 0, 0, 0, ...</td>\n",
       "      <td>0.100000</td>\n",
       "      <td>[0.3333333333333333, 0.0, 0.0, 0.0, 0.0, 0.0, ...</td>\n",
       "      <td>20</td>\n",
       "    </tr>\n",
       "    <tr>\n",
       "      <th>1</th>\n",
       "      <td>0.100000</td>\n",
       "      <td>[0.3333333333333333, 0.0, 0.0, 0.0, 0.0, 0.0, ...</td>\n",
       "      <td>[1, 0, 0, 0, 0, 0, 0, 0, 1, 0, 0, 0, 0, 0, 0, ...</td>\n",
       "      <td>0.100000</td>\n",
       "      <td>[0.3333333333333333, 0.0, 0.0, 0.0, 0.0, 0.0, ...</td>\n",
       "      <td>20</td>\n",
       "    </tr>\n",
       "    <tr>\n",
       "      <th>2</th>\n",
       "      <td>0.100000</td>\n",
       "      <td>[0.3333333333333333, 0.0, 0.0, 0.0, 0.0, 0.0, ...</td>\n",
       "      <td>[1, 0, 0, 0, 0, 0, 0, 0, 1, 0, 0, 0, 0, 0, 0, ...</td>\n",
       "      <td>0.100000</td>\n",
       "      <td>[0.3333333333333333, 0.0, 0.0, 0.0, 0.0, 0.0, ...</td>\n",
       "      <td>20</td>\n",
       "    </tr>\n",
       "    <tr>\n",
       "      <th>3</th>\n",
       "      <td>0.100000</td>\n",
       "      <td>[0.3333333333333333, 0.0, 0.0, 0.0, 0.0, 0.0, ...</td>\n",
       "      <td>[1, 0, 0, 0, 0, 0, 0, 0, 1, 0, 0, 0, 0, 0, 0, ...</td>\n",
       "      <td>0.086603</td>\n",
       "      <td>[0.3333333333333333, 0.0, 0.0, 0.0, 0.0, 0.0, ...</td>\n",
       "      <td>20</td>\n",
       "    </tr>\n",
       "    <tr>\n",
       "      <th>4</th>\n",
       "      <td>0.086603</td>\n",
       "      <td>[0.3333333333333333, 0.0, 0.0, 0.0, 0.0, 0.0, ...</td>\n",
       "      <td>[1, 0, 0, 0, 0, 1, 0, 0, 1, 0, 0, 0, 0, 0, 0, ...</td>\n",
       "      <td>0.100000</td>\n",
       "      <td>[0.3333333333333333, 0.0, 0.0, 0.0, 0.0, 0.0, ...</td>\n",
       "      <td>20</td>\n",
       "    </tr>\n",
       "  </tbody>\n",
       "</table>\n",
       "</div>"
      ],
      "text/plain": [
       "        x_t                                                y_t  \\\n",
       "0  0.100000  [0.3333333333333333, 0.0, 0.0, 0.0, 0.0, 0.0, ...   \n",
       "1  0.100000  [0.3333333333333333, 0.0, 0.0, 0.0, 0.0, 0.0, ...   \n",
       "2  0.100000  [0.3333333333333333, 0.0, 0.0, 0.0, 0.0, 0.0, ...   \n",
       "3  0.100000  [0.3333333333333333, 0.0, 0.0, 0.0, 0.0, 0.0, ...   \n",
       "4  0.086603  [0.3333333333333333, 0.0, 0.0, 0.0, 0.0, 0.0, ...   \n",
       "\n",
       "                                                 u_t      x_t1  \\\n",
       "0  [1, 0, 0, 0, 0, 0, 0, 0, 1, 0, 0, 0, 0, 0, 0, ...  0.100000   \n",
       "1  [1, 0, 0, 0, 0, 0, 0, 0, 1, 0, 0, 0, 0, 0, 0, ...  0.100000   \n",
       "2  [1, 0, 0, 0, 0, 0, 0, 0, 1, 0, 0, 0, 0, 0, 0, ...  0.100000   \n",
       "3  [1, 0, 0, 0, 0, 0, 0, 0, 1, 0, 0, 0, 0, 0, 0, ...  0.086603   \n",
       "4  [1, 0, 0, 0, 0, 1, 0, 0, 1, 0, 0, 0, 0, 0, 0, ...  0.100000   \n",
       "\n",
       "                                                y_t1  class  \n",
       "0  [0.3333333333333333, 0.0, 0.0, 0.0, 0.0, 0.0, ...     20  \n",
       "1  [0.3333333333333333, 0.0, 0.0, 0.0, 0.0, 0.0, ...     20  \n",
       "2  [0.3333333333333333, 0.0, 0.0, 0.0, 0.0, 0.0, ...     20  \n",
       "3  [0.3333333333333333, 0.0, 0.0, 0.0, 0.0, 0.0, ...     20  \n",
       "4  [0.3333333333333333, 0.0, 0.0, 0.0, 0.0, 0.0, ...     20  "
      ]
     },
     "execution_count": 4,
     "metadata": {},
     "output_type": "execute_result"
    }
   ],
   "source": [
    "\n",
    "TRAINING_SAMPLE_SIZE = int(0.75*len(df))\n",
    "train_idx = np.random.randint(0, len(df)-1, TRAINING_SAMPLE_SIZE)\n",
    "verify_idx = np.setdiff1d(np.arange(len(df)), train_idx)\n",
    "\n",
    "df.head()"
   ]
  },
  {
   "cell_type": "code",
   "execution_count": 5,
   "metadata": {},
   "outputs": [],
   "source": [
    "\n",
    "class Net(tc.nn.Module):\n",
    "    def __init__(self, n_feature, n_hidden, n_output):\n",
    "        super(Net, self).__init__()\n",
    "        self.hidden = tc.nn.Linear(n_feature, n_hidden)   # hidden layer\n",
    "        self.predict = tc.nn.Linear(n_hidden, n_output)   # output layer\n",
    "\n",
    "    def forward(self, x):\n",
    "        x = F.relu(self.hidden(x))      # activation function for hidden layer\n",
    "        x = self.predict(x)             # linear output\n",
    "        return x\n",
    "\n",
    "train_data = df.iloc[train_idx]\n",
    "verify_data = df.iloc[verify_idx]\n",
    "x_dim = 1\n",
    "y_dim = len(train_data['y_t'].iloc[0])\n",
    "u_dim = len(train_data['u_t'].iloc[0])\n",
    "\n",
    "h_input_layer_dim = x_dim+u_dim\n",
    "nn_hidden_width = 100\n",
    "h_output_layer_dim = y_dim\n"
   ]
  },
  {
   "cell_type": "code",
   "execution_count": 6,
   "metadata": {},
   "outputs": [],
   "source": [
    "x_set, u_set = np.asarray(train_data['x_t'].to_list()), np.asarray(train_data['u_t'].to_list())\n",
    "y_set = np.asarray(train_data['y_t'].to_list())\n",
    "x_set = np.reshape(x_set, (len(x_set), 1))\n",
    "h_input_data = tc.tensor(np.hstack([x_set, u_set]), dtype=tc.float)\n",
    "h_output_data = tc.tensor(y_set, dtype=tc.float)"
   ]
  },
  {
   "cell_type": "code",
   "execution_count": 7,
   "metadata": {},
   "outputs": [
    {
     "name": "stdout",
     "output_type": "stream",
     "text": [
      "eps: 0 -- 0.007037163712084293\n",
      "eps: 1 -- 0.003481911960989237\n",
      "eps: 2 -- 0.0017806917894631624\n",
      "eps: 3 -- 0.0012653067242354155\n",
      "eps: 4 -- 0.000676391355227679\n",
      "eps: 5 -- 0.0005318347830325365\n",
      "eps: 6 -- 0.0005579803255386651\n",
      "eps: 7 -- 0.0005771802389062941\n",
      "eps: 8 -- 0.0005807061679661274\n",
      "eps: 9 -- 0.0005769491544924676\n"
     ]
    }
   ],
   "source": [
    "\n",
    "net = nn.Sequential(nn.Linear(h_input_layer_dim, nn_hidden_width), \n",
    "                    nn.ReLU(), nn.Linear(nn_hidden_width, nn_hidden_width),\n",
    "                    nn.ReLU(), nn.Linear(nn_hidden_width, nn_hidden_width),\n",
    "                    nn.ReLU(), nn.Linear(nn_hidden_width, h_output_layer_dim))\n",
    "\n",
    "optimizer = tc.optim.Adam(net.parameters(), lr=0.005)\n",
    "loss_func = tc.nn.MSELoss()  # this is for regression mean squared loss\n",
    "\n",
    "\n",
    "for _ in range(10):\n",
    "    optimizer.zero_grad()                 # clear gradients for next train\n",
    "    v_pred = net(h_input_data)            # input x and predict based on x  \n",
    "    loss = loss_func(v_pred, h_output_data)   # must be (1. nn output, 2. target)\n",
    "    \n",
    "    loss.backward()                            # backpropagation, compute gradients\n",
    "    optimizer.step()                      # apply gradients\n",
    "    print(f'eps: {_} -- {loss}')"
   ]
  },
  {
   "cell_type": "code",
   "execution_count": 8,
   "metadata": {},
   "outputs": [],
   "source": [
    "x_set, u_set = np.asarray(verify_data['x_t'].to_list()), np.asarray(verify_data['u_t'].to_list())\n",
    "y_set = np.asarray(verify_data['y_t'].to_list())\n",
    "x_set = np.reshape(x_set, (len(x_set), 1))\n",
    "h_input_verify = tc.tensor(np.hstack([x_set, u_set]), dtype=tc.float)\n",
    "h_output_verify = tc.tensor(y_set, dtype=tc.float)"
   ]
  },
  {
   "cell_type": "code",
   "execution_count": 9,
   "metadata": {},
   "outputs": [
    {
     "name": "stdout",
     "output_type": "stream",
     "text": [
      "tensor(0.0006, grad_fn=<MseLossBackward>)\n"
     ]
    }
   ],
   "source": [
    "v_pred = net(h_input_verify)\n",
    "loss = loss_func(v_pred, h_output_verify)\n",
    "print(loss)"
   ]
  },
  {
   "cell_type": "code",
   "execution_count": 10,
   "metadata": {},
   "outputs": [],
   "source": [
    "# f1\n",
    "user_data = defaultdict(list)\n",
    "cnt = 0\n",
    "for i,row in df.iterrows():\n",
    "    x = row.loc['x_t']\n",
    "    y = row.loc['y_t']\n",
    "    u = row.loc['u_t']\n",
    "    x_next = row.loc['x_t1']\n",
    "\n",
    "    \n",
    "    if np.linalg.norm(y) != 0 and np.linalg.norm(u) != 0 and np.dot(y, u) != 0:\n",
    "        ep = (x_next-x) / (np.dot(y, u)/(np.linalg.norm(y)*np.linalg.norm(u)))\n",
    "    else:\n",
    "        ep = 0\n",
    "\n",
    "    user_data[row.loc['class']].append(ep)\n",
    "\n",
    "#     if not (np.linalg.norm(y) != 0 and np.linalg.norm(u) != 0):\n",
    "#         print(i, y, u)\n",
    "#         cnt += 1\n",
    "# print(cnt)"
   ]
  },
  {
   "cell_type": "code",
   "execution_count": 17,
   "metadata": {},
   "outputs": [
    {
     "name": "stdout",
     "output_type": "stream",
     "text": [
      "[1.64682487 1.6397198  0.90589726 0.52088791 1.36371071 0.97572749\n",
      " 3.04661257 0.89093565 3.7176052  1.65594446 1.55603544 2.28185716\n",
      " 4.73746149 0.81728338 2.36801248 1.27636493 2.29618325 0.94048599\n",
      " 0.26732503 4.30048655 0.12414949 1.66147287 0.21128627 2.36259984\n",
      " 0.09071123 3.69853523 3.66003637 0.87443074 1.62936286 1.55688002\n",
      " 1.09509216 0.66426975 1.11240794 0.48146877 0.60147965 0.94582615\n",
      " 0.29152373 3.82517031 0.42158417 0.23206823 0.05671402 0.23372655\n",
      " 0.         0.54954319 1.40483824 0.14008946 0.11828592 1.33986892\n",
      " 0.0137335  0.02802405]\n"
     ]
    }
   ],
   "source": [
    "epsion_user = np.zeros(len(list(user_data.keys())))\n",
    "for i,user in enumerate(user_data.keys()):\n",
    "    epsion_user[i] = np.array(user_data[user]).mean()\n",
    "\n",
    "epsion_user = np.clip(epsion_user, a_min=0, a_max=np.inf)\n",
    "print(epsion_user)\n",
    "\n",
    "with open(f'data/epsilon.pickle', 'wb') as pk:\n",
    "    pickle.dump(epsion_user, pk, protocol=pickle.HIGHEST_PROTOCOL) "
   ]
  },
  {
   "cell_type": "code",
   "execution_count": 12,
   "metadata": {},
   "outputs": [],
   "source": [
    "# fit f2\n",
    "f2_input_data = defaultdict(list)\n",
    "f2_output_data = defaultdict(list)\n",
    "cnt = 0\n",
    "for i,row in df.iterrows():\n",
    "    x = row.loc['x_t']\n",
    "    y = row.loc['y_t']\n",
    "    u = row.loc['u_t']\n",
    "    y_next = row.loc['y_t1']\n",
    "\n",
    "    input_data = np.hstack([x, y, u])\n",
    "\n",
    "    f2_input_data[row.loc['class']].append(input_data)\n",
    "    f2_output_data[row.loc['class']].append(y_next)\n",
    "\n"
   ]
  },
  {
   "cell_type": "code",
   "execution_count": 13,
   "metadata": {},
   "outputs": [],
   "source": [
    "f2_input_layer_dim = len(f2_input_data[0][0])\n",
    "f2_output_layer_dim = len(f2_output_data[0][0])\n",
    "f2_hidden_width = f2_input_layer_dim\n",
    "for i in f2_input_data:\n",
    "    f2_input_data[i] = tc.tensor(np.array(f2_input_data[i]), dtype=tc.float)\n",
    "    f2_output_data[i] = tc.tensor(np.array(f2_output_data[i]), dtype=tc.float)"
   ]
  },
  {
   "cell_type": "code",
   "execution_count": 14,
   "metadata": {},
   "outputs": [
    {
     "name": "stderr",
     "output_type": "stream",
     "text": [
      "  0%|          | 0/50 [00:00<?, ?it/s]/home/shao.367/miniconda3/envs/pt-gpu/lib/python3.9/site-packages/torch/nn/modules/container.py:139: UserWarning: Implicit dimension choice for softmax has been deprecated. Change the call to include dim=X as an argument.\n",
      "  input = module(input)\n",
      "100%|██████████| 1000/1000 [00:13<00:00, 72.84it/s]\n",
      "100%|██████████| 1000/1000 [00:13<00:00, 73.74it/s]\n",
      "100%|██████████| 1000/1000 [00:12<00:00, 77.45it/s]\n",
      "100%|██████████| 1000/1000 [00:12<00:00, 77.41it/s]\n",
      "100%|██████████| 1000/1000 [00:12<00:00, 79.46it/s]\n",
      "100%|██████████| 1000/1000 [00:12<00:00, 79.34it/s]\n",
      "100%|██████████| 1000/1000 [00:12<00:00, 80.08it/s]\n",
      "100%|██████████| 1000/1000 [00:12<00:00, 78.88it/s]\n",
      "100%|██████████| 1000/1000 [00:12<00:00, 79.80it/s]\n",
      "100%|██████████| 1000/1000 [00:12<00:00, 78.92it/s]\n",
      "100%|██████████| 1000/1000 [00:12<00:00, 78.93it/s]\n",
      "100%|██████████| 1000/1000 [00:12<00:00, 78.83it/s]\n",
      "100%|██████████| 1000/1000 [00:12<00:00, 79.73it/s]\n",
      "100%|██████████| 1000/1000 [00:12<00:00, 79.51it/s]\n",
      "100%|██████████| 1000/1000 [00:12<00:00, 79.80it/s]\n",
      "100%|██████████| 1000/1000 [00:12<00:00, 79.54it/s]\n",
      "100%|██████████| 1000/1000 [00:12<00:00, 79.79it/s]\n",
      "100%|██████████| 1000/1000 [00:12<00:00, 79.25it/s]\n",
      "100%|██████████| 1000/1000 [00:12<00:00, 78.90it/s]\n",
      "100%|██████████| 1000/1000 [00:12<00:00, 79.41it/s]\n",
      "100%|██████████| 1000/1000 [00:12<00:00, 78.80it/s]\n",
      "100%|██████████| 1000/1000 [00:12<00:00, 79.30it/s]\n",
      "100%|██████████| 1000/1000 [00:12<00:00, 78.08it/s]\n",
      "100%|██████████| 1000/1000 [00:12<00:00, 79.95it/s]\n",
      "100%|██████████| 1000/1000 [00:12<00:00, 79.88it/s]\n",
      "100%|██████████| 1000/1000 [00:12<00:00, 79.84it/s]\n",
      "100%|██████████| 1000/1000 [00:12<00:00, 79.93it/s]\n",
      "100%|██████████| 1000/1000 [00:12<00:00, 79.80it/s]\n",
      "100%|██████████| 1000/1000 [00:12<00:00, 81.18it/s]\n",
      "100%|██████████| 1000/1000 [00:12<00:00, 81.00it/s]\n",
      "100%|██████████| 1000/1000 [00:12<00:00, 80.78it/s]\n",
      "100%|██████████| 1000/1000 [00:12<00:00, 81.44it/s]\n",
      "100%|██████████| 1000/1000 [00:12<00:00, 80.24it/s]\n",
      "100%|██████████| 1000/1000 [00:12<00:00, 80.48it/s]\n",
      "100%|██████████| 1000/1000 [00:12<00:00, 80.26it/s]\n",
      "100%|██████████| 1000/1000 [00:12<00:00, 80.08it/s]\n",
      "100%|██████████| 1000/1000 [00:12<00:00, 79.15it/s]\n",
      "100%|██████████| 1000/1000 [00:12<00:00, 80.82it/s]\n",
      "100%|██████████| 1000/1000 [00:12<00:00, 78.87it/s]\n",
      "100%|██████████| 1000/1000 [00:12<00:00, 79.68it/s]\n",
      "100%|██████████| 1000/1000 [00:12<00:00, 79.60it/s]\n",
      "100%|██████████| 1000/1000 [00:12<00:00, 80.47it/s]\n",
      "100%|██████████| 1000/1000 [00:12<00:00, 80.62it/s]\n",
      "100%|██████████| 1000/1000 [00:12<00:00, 80.07it/s]\n",
      "100%|██████████| 1000/1000 [00:12<00:00, 80.14it/s]\n",
      "100%|██████████| 1000/1000 [00:12<00:00, 80.40it/s]\n",
      "100%|██████████| 1000/1000 [00:12<00:00, 80.61it/s]\n",
      "100%|██████████| 1000/1000 [00:12<00:00, 80.85it/s]\n",
      "100%|██████████| 1000/1000 [00:12<00:00, 78.94it/s]\n",
      "100%|██████████| 1000/1000 [00:12<00:00, 80.17it/s]\n",
      "100%|██████████| 50/50 [10:29<00:00, 12.60s/it]\n"
     ]
    }
   ],
   "source": [
    "from tqdm import tqdm\n",
    "f2_nn_dict = {}\n",
    "W_SCALE = 5\n",
    "\n",
    "for i in tqdm(f2_input_data):\n",
    "\n",
    "    net = nn.Sequential(nn.Linear(f2_input_layer_dim, W_SCALE*f2_hidden_width), \n",
    "                    nn.ReLU(), nn.Linear(W_SCALE*f2_hidden_width, W_SCALE*f2_hidden_width),\n",
    "                    nn.ReLU(), nn.Linear(W_SCALE*f2_hidden_width, f2_output_layer_dim),\n",
    "                    nn.Softmax())\n",
    "\n",
    "    optimizer = tc.optim.Adam(net.parameters(), lr=0.002)\n",
    "    loss_func = tc.nn.MSELoss()  # this is for regression mean squared loss\n",
    "\n",
    "\n",
    "    for _ in tqdm(range(1000)):\n",
    "        optimizer.zero_grad()                 # clear gradients for next train\n",
    "        v_pred = net(f2_input_data[0])            # input x and predict based on x  \n",
    "        loss = loss_func(v_pred, f2_output_data[0])   # must be (1. nn output, 2. target)\n",
    "        \n",
    "        loss.backward()                            # backpropagation, compute gradients\n",
    "        optimizer.step()                      # apply gradients\n",
    "        # if _%100 == 0:\n",
    "        #     print(f'eps: {_} -- {loss}')\n",
    "\n",
    "    f2_nn_dict[i] = net.state_dict()\n",
    "\n",
    "tc.save(f2_nn_dict, 'data/f2_nn')\n"
   ]
  },
  {
   "cell_type": "code",
   "execution_count": 15,
   "metadata": {},
   "outputs": [
    {
     "name": "stdout",
     "output_type": "stream",
     "text": [
      "tensor(0.0003, grad_fn=<MseLossBackward>)\n"
     ]
    }
   ],
   "source": [
    "f2_nn_dict = tc.load('data/f2_nn')\n",
    "# verify\n",
    "cnt = 0\n",
    "# predict\n",
    "for i,row in df.iterrows():\n",
    "    x = row.loc['x_t']\n",
    "    y = row.loc['y_t']\n",
    "    u = row.loc['u_t']\n",
    "    y_next = row.loc['y_t1']\n",
    "    user_c = row.loc['class']\n",
    "    \n",
    "    cnt += 1\n",
    "    if cnt == 1002:\n",
    "        break\n",
    "\n",
    "net_predit = net\n",
    "net_predit.load_state_dict(f2_nn_dict[user_c])\n",
    "input_data = tc.tensor(np.hstack([x, y, u]), dtype=tc.float)\n",
    "y_next = tc.tensor(y_next, dtype=tc.float)\n",
    "out_y = net_predit(input_data)\n",
    "print(loss_func(out_y, y_next) )\n"
   ]
  }
 ],
 "metadata": {
  "kernelspec": {
   "display_name": "Python 3.9.6 ('pt-gpu')",
   "language": "python",
   "name": "python3"
  },
  "language_info": {
   "codemirror_mode": {
    "name": "ipython",
    "version": 3
   },
   "file_extension": ".py",
   "mimetype": "text/x-python",
   "name": "python",
   "nbconvert_exporter": "python",
   "pygments_lexer": "ipython3",
   "version": "3.9.6"
  },
  "orig_nbformat": 4,
  "vscode": {
   "interpreter": {
    "hash": "ced00d027a5dbfd53bf9a418350af530543228d182f68e857f8b219fbe4842d6"
   }
  }
 },
 "nbformat": 4,
 "nbformat_minor": 2
}
